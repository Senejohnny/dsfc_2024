{
 "cells": [
  {
   "attachments": {
    "image.png": {
     "image/png": "[encoded data removed]"
    }
   },
   "cell_type": "markdown",
   "metadata": {},
   "source": [
    "# Simulated Data\n",
    "\n",
    "The data generating process induce the below causal graph\n",
    "\n",
    "\n",
    "\n",
    "![image.png](attachment:image.png)"
   ]
  },
  {
   "cell_type": "code",
   "execution_count": 1,
   "metadata": {},
   "outputs": [],
   "source": [
    "\n",
    "\"\"\"\n",
    "Estimating the causal effect of sodium on blood pressure in a simulated example\n",
    "adapted from Luque-Fernandez et al. (2018):\n",
    "    https://academic.oup.com/ije/article/48/2/640/5248195\n",
    "\"\"\"\n",
    "\n",
    "import numpy as np\n",
    "import pandas as pd\n",
    "from sklearn.linear_model import LinearRegression\n",
    "\n",
    "\n",
    "def generate_data(n=1000, seed=0, beta1=1.05, alpha1=0.4, alpha2=0.3, binary_treatment=True, binary_cutoff=3.5):\n",
    "    np.random.seed(seed)\n",
    "    age = np.random.normal(65, 5, n)\n",
    "    sodium = age / 18 + np.random.normal(size=n)\n",
    "    if binary_treatment:\n",
    "        if binary_cutoff is None:\n",
    "            binary_cutoff = sodium.mean()\n",
    "        sodium = (sodium > binary_cutoff).astype(int)\n",
    "    blood_pressure = beta1 * sodium + 2 * age + np.random.normal(size=n)\n",
    "    proteinuria = alpha1 * sodium + alpha2 * blood_pressure + np.random.normal(size=n)\n",
    "    hypertension = (blood_pressure >= 140).astype(int)  # not used, but could be used for binary outcomes\n",
    "    return pd.DataFrame({'blood_pressure': blood_pressure, 'sodium': sodium,\n",
    "                         'age': age, 'proteinuria': proteinuria, 'hypertension': hypertension})\n",
    "\n"
   ]
  },
  {
   "cell_type": "code",
   "execution_count": 59,
   "metadata": {},
   "outputs": [],
   "source": [
    "data = generate_data(beta1=1.05, alpha1=.4, alpha2=.3, binary_treatment=True, n=20_000)"
   ]
  },
  {
   "attachments": {},
   "cell_type": "markdown",
   "metadata": {},
   "source": [
    "## Predictive Analysis\n",
    "\n",
    "Lets fit a linear regression (OLS) model to see what is the impact of sodium on blood pressure "
   ]
  },
  {
   "cell_type": "code",
   "execution_count": 3,
   "metadata": {},
   "outputs": [],
   "source": [
    "import statsmodels.formula.api as smf"
   ]
  },
  {
   "attachments": {},
   "cell_type": "markdown",
   "metadata": {},
   "source": [
    "### Effect of Sodium on blood_pressure"
   ]
  },
  {
   "cell_type": "code",
   "execution_count": 4,
   "metadata": {},
   "outputs": [
    {
     "data": {
      "text/plain": [
       "Intercept     -0.030690\n",
       "sodium         0.847424\n",
       "age            1.835748\n",
       "proteinuria    0.274511\n",
       "dtype: float64"
      ]
     },
     "execution_count": 4,
     "metadata": {},
     "output_type": "execute_result"
    }
   ],
   "source": [
    "model = smf.ols(f\"blood_pressure ~ sodium + age + proteinuria\", data=data).fit()\n",
    "model.params"
   ]
  },
  {
   "attachments": {},
   "cell_type": "markdown",
   "metadata": {},
   "source": [
    "# Structured Causal Model: Causal Analysis\n",
    "\n",
    "Given the causal graph, we should condition on age as confounder and not on proteinuria as collider. Otherwise, we will "
   ]
  },
  {
   "cell_type": "code",
   "execution_count": 5,
   "metadata": {},
   "outputs": [
    {
     "data": {
      "text/plain": [
       "Intercept   -0.026509\n",
       "sodium       1.059083\n",
       "age          2.000245\n",
       "dtype: float64"
      ]
     },
     "execution_count": 5,
     "metadata": {},
     "output_type": "execute_result"
    }
   ],
   "source": [
    "model = smf.ols(f\"blood_pressure ~ sodium + age \", data=data).fit()\n",
    "model.params"
   ]
  },
  {
   "attachments": {},
   "cell_type": "markdown",
   "metadata": {},
   "source": [
    "### Effect of Sodium on Proteinuria"
   ]
  },
  {
   "cell_type": "code",
   "execution_count": 6,
   "metadata": {},
   "outputs": [
    {
     "data": {
      "text/plain": [
       "Intercept         0.013951\n",
       "sodium            0.453383\n",
       "blood_pressure    0.299655\n",
       "dtype: float64"
      ]
     },
     "execution_count": 6,
     "metadata": {},
     "output_type": "execute_result"
    }
   ],
   "source": [
    "# if we condition on blood_pressure (Y)\n",
    "model = smf.ols(f\"proteinuria ~ sodium + blood_pressure\", data=data).fit()\n",
    "model.params"
   ]
  },
  {
   "cell_type": "code",
   "execution_count": 7,
   "metadata": {},
   "outputs": [
    {
     "data": {
      "text/plain": [
       "Intercept    0.015232\n",
       "sodium       0.771040\n",
       "age          0.599239\n",
       "dtype: float64"
      ]
     },
     "execution_count": 7,
     "metadata": {},
     "output_type": "execute_result"
    }
   ],
   "source": [
    "# if we condition on age (X)\n",
    "model = smf.ols(f\"proteinuria ~ sodium + age \", data=data).fit()\n",
    "model.params"
   ]
  },
  {
   "cell_type": "code",
   "execution_count": 8,
   "metadata": {},
   "outputs": [
    {
     "data": {
      "text/plain": [
       "Intercept         0.023355\n",
       "C(sodium)[T.1]    0.446495\n",
       "age              -0.013717\n",
       "blood_pressure    0.306440\n",
       "dtype: float64"
      ]
     },
     "execution_count": 8,
     "metadata": {},
     "output_type": "execute_result"
    }
   ],
   "source": [
    "# if we condition on age (X)\n",
    "model = smf.ols(f\"proteinuria ~ C(sodium) + age + blood_pressure\", data=data).fit()\n",
    "model.params"
   ]
  },
  {
   "attachments": {},
   "cell_type": "markdown",
   "metadata": {},
   "source": [
    "### Effect of Sodium on Hypertension"
   ]
  },
  {
   "cell_type": "code",
   "execution_count": 9,
   "metadata": {},
   "outputs": [
    {
     "data": {
      "text/plain": [
       "Intercept   -2.233269\n",
       "sodium       1.031368\n",
       "dtype: float64"
      ]
     },
     "execution_count": 9,
     "metadata": {},
     "output_type": "execute_result"
    }
   ],
   "source": [
    "import statsmodels.api as sm\n",
    "import statsmodels.formula.api as smf\n",
    "\n",
    "glm = smf.glm(\"hypertension ~ sodium\", data=data, family=sm.families.Binomial()).fit()\n",
    "glm.params"
   ]
  },
  {
   "cell_type": "code",
   "execution_count": 10,
   "metadata": {},
   "outputs": [
    {
     "data": {
      "text/plain": [
       "Intercept   -270.558799\n",
       "sodium         2.172016\n",
       "age            3.865241\n",
       "dtype: float64"
      ]
     },
     "execution_count": 10,
     "metadata": {},
     "output_type": "execute_result"
    }
   ],
   "source": [
    "\n",
    "glm = smf.glm(\"hypertension ~ sodium + age \", data=data, family=sm.families.Binomial()).fit()\n",
    "glm.params"
   ]
  },
  {
   "cell_type": "code",
   "execution_count": 11,
   "metadata": {},
   "outputs": [
    {
     "data": {
      "text/plain": [
       "Intercept     -281.251695\n",
       "sodium           1.871042\n",
       "age              3.737998\n",
       "proteinuria      0.467118\n",
       "dtype: float64"
      ]
     },
     "execution_count": 11,
     "metadata": {},
     "output_type": "execute_result"
    }
   ],
   "source": [
    "\n",
    "glm = smf.glm(\"hypertension ~ sodium + age + proteinuria\", data=data, family=sm.families.Binomial()).fit()\n",
    "glm.params"
   ]
  },
  {
   "attachments": {},
   "cell_type": "markdown",
   "metadata": {},
   "source": [
    "# Potential Outcome:"
   ]
  },
  {
   "cell_type": "code",
   "execution_count": 60,
   "metadata": {},
   "outputs": [],
   "source": [
    "import statsmodels.api as sm\n",
    "import statsmodels.formula.api as smf\n",
    "\n",
    "glm = (\n",
    "    smf\n",
    "    .glm(\"\"\"sodium ~ age  \"\"\", # maybe drop proteinuria\n",
    "        data=data, family=sm.families.Binomial())\n",
    "    .fit()\n",
    ")\n",
    "data['propensity_score'] = glm.fittedvalues # glm.predict()"
   ]
  },
  {
   "cell_type": "code",
   "execution_count": 64,
   "metadata": {},
   "outputs": [],
   "source": [
    "df_treat = data[data['sodium'] == 1].reset_index(drop=True)\n",
    "df_ctrl = data[data['sodium'] == 0].reset_index(drop=True)"
   ]
  },
  {
   "cell_type": "code",
   "execution_count": 56,
   "metadata": {},
   "outputs": [
    {
     "data": {
      "image/png": "[encoded data removed]",
      "text/plain": [
       "<Figure size 1600x400 with 1 Axes>"
      ]
     },
     "metadata": {},
     "output_type": "display_data"
    }
   ],
   "source": [
    "import matplotlib.pyplot as plt\n",
    "import seaborn as sns\n",
    "\n",
    "fig, ax = plt.subplots(figsize=(16, 4))\n",
    "\n",
    "sns.histplot(df_ctrl['propensity_score'], alpha=.5, ax=ax, label='control', bins=60)\n",
    "sns.histplot(df_treat['propensity_score'], alpha=.5, ax=ax, label='treatment', bins=60)\n",
    "ax.legend();"
   ]
  },
  {
   "cell_type": "code",
   "execution_count": 42,
   "metadata": {},
   "outputs": [
    {
     "data": {
      "text/plain": [
       "(4566, 5434)"
      ]
     },
     "execution_count": 42,
     "metadata": {},
     "output_type": "execute_result"
    }
   ],
   "source": [
    "len(df_ctrl), len(df_treat)"
   ]
  },
  {
   "attachments": {},
   "cell_type": "markdown",
   "metadata": {},
   "source": [
    "## Potential Outcome: Propensity Score Matching\n",
    "\n",
    "Matching is based on finding people in the two treatment groups that have similar propensity scores. This is done by taking a person from the smallest of the two groups (here the group for which DIET=1), and finding a person in the other group that is most like this person in terms of its propensity score\n",
    "\n",
    "There is a trade-off in bias and precision between matching with replacement and without (1:1). Matching with replacement allows for reduced bias because of better matching between subjects. Matching without replacement has better precision because more subjects are used. [Further Reading](https://www.publichealth.columbia.edu/research/population-health-methods/propensity-score-analysis#:~:text=There%20is%20a%20trade%2Doff,because%20more%20subjects%20are%20used.)\n",
    "\n",
    "\n",
    "Below is a quick solution proposed by [Causal Inference in Python](https://learning.oreilly.com/library/view/causal-inference-in/9781098140243/). [Chapter 5]"
   ]
  },
  {
   "cell_type": "code",
   "execution_count": 43,
   "metadata": {},
   "outputs": [
    {
     "data": {
      "text/html": [
       "<div>\n",
       "<style scoped>\n",
       "    .dataframe tbody tr th:only-of-type {\n",
       "        vertical-align: middle;\n",
       "    }\n",
       "\n",
       "    .dataframe tbody tr th {\n",
       "        vertical-align: top;\n",
       "    }\n",
       "\n",
       "    .dataframe thead th {\n",
       "        text-align: right;\n",
       "    }\n",
       "</style>\n",
       "<table border=\"1\" class=\"dataframe\">\n",
       "  <thead>\n",
       "    <tr style=\"text-align: right;\">\n",
       "      <th></th>\n",
       "      <th>blood_pressure</th>\n",
       "      <th>sodium</th>\n",
       "      <th>age</th>\n",
       "      <th>proteinuria</th>\n",
       "      <th>hypertension</th>\n",
       "      <th>propensity_score</th>\n",
       "      <th>blood_pressure_cf</th>\n",
       "    </tr>\n",
       "  </thead>\n",
       "  <tbody>\n",
       "    <tr>\n",
       "      <th>0</th>\n",
       "      <td>149.020569</td>\n",
       "      <td>1</td>\n",
       "      <td>73.820262</td>\n",
       "      <td>45.477403</td>\n",
       "      <td>1</td>\n",
       "      <td>0.825698</td>\n",
       "      <td>135.961591</td>\n",
       "    </tr>\n",
       "    <tr>\n",
       "      <th>1</th>\n",
       "      <td>141.655496</td>\n",
       "      <td>1</td>\n",
       "      <td>69.893690</td>\n",
       "      <td>43.400773</td>\n",
       "      <td>1</td>\n",
       "      <td>0.802419</td>\n",
       "      <td>144.053390</td>\n",
       "    </tr>\n",
       "    <tr>\n",
       "      <th>2</th>\n",
       "      <td>153.887146</td>\n",
       "      <td>1</td>\n",
       "      <td>76.204466</td>\n",
       "      <td>46.701443</td>\n",
       "      <td>1</td>\n",
       "      <td>0.835238</td>\n",
       "      <td>145.339591</td>\n",
       "    </tr>\n",
       "    <tr>\n",
       "      <th>3</th>\n",
       "      <td>147.221633</td>\n",
       "      <td>1</td>\n",
       "      <td>74.337790</td>\n",
       "      <td>45.220249</td>\n",
       "      <td>1</td>\n",
       "      <td>0.769543</td>\n",
       "      <td>134.548672</td>\n",
       "    </tr>\n",
       "    <tr>\n",
       "      <th>4</th>\n",
       "      <td>141.358777</td>\n",
       "      <td>1</td>\n",
       "      <td>69.750442</td>\n",
       "      <td>41.944342</td>\n",
       "      <td>1</td>\n",
       "      <td>0.606723</td>\n",
       "      <td>156.089104</td>\n",
       "    </tr>\n",
       "  </tbody>\n",
       "</table>\n",
       "</div>"
      ],
      "text/plain": [
       "   blood_pressure  sodium        age  proteinuria  hypertension  \\\n",
       "0      149.020569       1  73.820262    45.477403             1   \n",
       "1      141.655496       1  69.893690    43.400773             1   \n",
       "2      153.887146       1  76.204466    46.701443             1   \n",
       "3      147.221633       1  74.337790    45.220249             1   \n",
       "4      141.358777       1  69.750442    41.944342             1   \n",
       "\n",
       "   propensity_score  blood_pressure_cf  \n",
       "0          0.825698         135.961591  \n",
       "1          0.802419         144.053390  \n",
       "2          0.835238         145.339591  \n",
       "3          0.769543         134.548672  \n",
       "4          0.606723         156.089104  "
      ]
     },
     "execution_count": 43,
     "metadata": {},
     "output_type": "execute_result"
    }
   ],
   "source": [
    "from  sklearn.neighbors import KNeighborsRegressor\n",
    "X = 'propensity_score'\n",
    "y = 'blood_pressure'\n",
    "\n",
    "mt0 = KNeighborsRegressor(n_neighbors=1).fit(df_ctrl[[X]], df_ctrl[y])\n",
    "mt1 = KNeighborsRegressor(n_neighbors=1).fit(df_treat[[X]], df_treat[y])\n",
    "\n",
    "predicted = pd.concat([\n",
    "    # find counterfactual for the treated looking at the untreated knn model\n",
    "    df_treat.assign(blood_pressure_cf=mt0.predict(df_treat[[X]])),\n",
    "    \n",
    "    # find counterfactual for the untreated looking at the treated knn model\n",
    "    df_ctrl.assign(blood_pressure_cf=mt1.predict(df_ctrl[[X]]))\n",
    "])\n",
    "predicted.head()"
   ]
  },
  {
   "cell_type": "code",
   "execution_count": 44,
   "metadata": {},
   "outputs": [
    {
     "data": {
      "text/plain": [
       "0.8112121570719136"
      ]
     },
     "execution_count": 44,
     "metadata": {},
     "output_type": "execute_result"
    }
   ],
   "source": [
    "np.mean(\n",
    "    (predicted[\"blood_pressure\"] - predicted[\"blood_pressure_cf\"]) * predicted['sodium']  \n",
    "    + (predicted[\"blood_pressure_cf\"] - predicted['blood_pressure']) * (1 - predicted['sodium'])\n",
    ")"
   ]
  },
  {
   "attachments": {},
   "cell_type": "markdown",
   "metadata": {},
   "source": [
    "We observe from above value that both linear regression in previous section and propensity matching drive almost similar treatment effect"
   ]
  },
  {
   "cell_type": "code",
   "execution_count": 45,
   "metadata": {},
   "outputs": [],
   "source": [
    "def propensity_matching(df_small, df_large, replacement=True, size:int=None):\n",
    "    \"\"\" \n",
    "    matching the propensities from the smaller df to the bigger df without replacement.\n",
    "\n",
    "    \"\"\" \n",
    "\n",
    "    # the larger df will keep shrinking during matching     \n",
    "    _df_large = df_large.copy(deep=True)\n",
    "    size = size if size else len(df_small) \n",
    "    matched_dict = [] \n",
    "    for row in range(size):\n",
    "        diff = _df_large['propensity_score'] - df_small.iloc[row]['propensity_score']\n",
    "        ind = diff.abs().argmin()\n",
    "        _dict = _df_large.iloc[ind].to_dict()\n",
    "        matched_dict.append(_dict)\n",
    "        if not replacement:\n",
    "            _df_large = _df_large.drop(index=ind).reset_index(drop=True)\n",
    "    \n",
    "    print(f'#Unique samples: {len(matched_dict)} and left samples from large df {len(_df_large)}')\n",
    "    return pd.DataFrame(matched_dict)"
   ]
  },
  {
   "cell_type": "code",
   "execution_count": 46,
   "metadata": {},
   "outputs": [
    {
     "name": "stdout",
     "output_type": "stream",
     "text": [
      "#Unique samples: 4566 and left samples from large df 5434\n"
     ]
    }
   ],
   "source": [
    "df_treat_matched = propensity_matching(df_ctrl, df_treat, replacement=True)"
   ]
  },
  {
   "cell_type": "code",
   "execution_count": 47,
   "metadata": {},
   "outputs": [
    {
     "data": {
      "text/plain": [
       "(132.74561733925634, 128.31069626800104, 127.56592530596747)"
      ]
     },
     "execution_count": 47,
     "metadata": {},
     "output_type": "execute_result"
    }
   ],
   "source": [
    "df_treat['blood_pressure'].mean(), df_treat_matched['blood_pressure'].mean(), df_ctrl['blood_pressure'].mean()"
   ]
  },
  {
   "cell_type": "code",
   "execution_count": 48,
   "metadata": {},
   "outputs": [
    {
     "data": {
      "text/plain": [
       "0.7447709620335701"
      ]
     },
     "execution_count": 48,
     "metadata": {},
     "output_type": "execute_result"
    }
   ],
   "source": [
    "df_treat_matched['blood_pressure'].mean() - df_ctrl['blood_pressure'].mean()"
   ]
  },
  {
   "cell_type": "code",
   "execution_count": 49,
   "metadata": {},
   "outputs": [
    {
     "data": {
      "image/png": "[encoded data removed]",
      "text/plain": [
       "<Figure size 1200x400 with 2 Axes>"
      ]
     },
     "metadata": {},
     "output_type": "display_data"
    }
   ],
   "source": [
    "import seaborn as sns\n",
    "import matplotlib.pyplot as plt\n",
    "\n",
    "fig, ax = plt.subplots(1, 2, figsize=(12, 4))\n",
    "\n",
    "sns.histplot(df_treat_matched['age'], ax=ax[0], label='Treatment')\n",
    "sns.histplot(df_ctrl['age'], ax=ax[0],  label='Control')\n",
    "\n",
    "sns.histplot(df_treat_matched['proteinuria'], ax=ax[1], label='Treatment')\n",
    "sns.histplot(df_ctrl['proteinuria'], ax=ax[1], label='Control')\n",
    "ax[0].legend(), ax[1].legend();"
   ]
  },
  {
   "attachments": {},
   "cell_type": "markdown",
   "metadata": {},
   "source": [
    "## Potential Outcome: Inverse Propensity Score Weighting\n",
    "\n",
    "We can also use inverse probability weighting (IPW) to account for unbalanced covariates. In this case, the estimated propensity scores $\\pi_i$ are used to determine the probability that an individual would have received the treatment that they received: \n",
    "\n",
    "* for the treated ($T_i=1$) this is simply $\\pi_i$\n",
    "* for the control $T_i=0$ this is $1-\\pi_i$\n",
    "\n",
    "\n",
    "Next, we can use these probabilities as weights, by taking their inverse: That way, a case that received a treatment that she was very likely to receive, will get a small weight, while a case that received a treatment that she was very unlikely to receive, will get a large weight. Thus, the inverse probability weight indicates the number of persons from the population that this person represents. For the treated, this weight is $1/\\pi_i$; for the untreated, it is $1/(1-\\pi_i)$.\n",
    "\n",
    "We can compute our estimate of the IPW-weighted ACE following the formulas given in the slides, or by using techniques which allow us to include weights directly. One such approach is available in the survey package. First, we create the weighted datafile (i.e., the pseudo population), and check the SMDs again."
   ]
  },
  {
   "cell_type": "code",
   "execution_count": 65,
   "metadata": {},
   "outputs": [
    {
     "name": "stdout",
     "output_type": "stream",
     "text": [
      "y_treat 239.0993629899476\n",
      "y_ctrl 287.5235289104315\n",
      "1.0394847063820691\n"
     ]
    }
   ],
   "source": [
    "y_treat = df_treat['blood_pressure'] * (1 / df_treat['propensity_score'])\n",
    "y_ctrl = df_ctrl['blood_pressure'] * (1 / (1 - df_ctrl['propensity_score']))\n",
    "\n",
    "print('y_treat', y_treat.mean())\n",
    "\n",
    "print('y_ctrl', y_ctrl.mean())\n",
    "ATE = (sum(y_treat) / len(data)) - (sum(y_ctrl) / len(data))\n",
    "\n",
    "print(ATE)"
   ]
  },
  {
   "cell_type": "code",
   "execution_count": 66,
   "metadata": {},
   "outputs": [
    {
     "data": {
      "text/plain": [
       "1.0394847063812376"
      ]
     },
     "execution_count": 66,
     "metadata": {},
     "output_type": "execute_result"
    }
   ],
   "source": [
    "np.mean(\n",
    "    data[\"blood_pressure\"] * (data[\"sodium\"] - data[\"propensity_score\"]) \n",
    "        / \n",
    "    (data[\"propensity_score\"]*(1 - data[\"propensity_score\"]))\n",
    ")"
   ]
  },
  {
   "cell_type": "code",
   "execution_count": 31,
   "metadata": {},
   "outputs": [
    {
     "data": {
      "text/plain": [
       "(5434, 6)"
      ]
     },
     "execution_count": 31,
     "metadata": {},
     "output_type": "execute_result"
    }
   ],
   "source": [
    "# pd.DataFrame([y_treat, y_ctrl]).T\n",
    "df_treat.shape"
   ]
  },
  {
   "cell_type": "code",
   "execution_count": 126,
   "metadata": {},
   "outputs": [
    {
     "data": {
      "text/plain": [
       "<matplotlib.legend.Legend at 0x22971e4ea60>"
      ]
     },
     "execution_count": 126,
     "metadata": {},
     "output_type": "execute_result"
    },
    {
     "data": {
      "image/png": "[encoded data removed]",
      "text/plain": [
       "<Figure size 1000x400 with 1 Axes>"
      ]
     },
     "metadata": {},
     "output_type": "display_data"
    }
   ],
   "source": [
    "color=['0.2', '0.6', '1.0']\n",
    "marker=['o', 'v', 'd', 'p']\n",
    "g_data = (data\n",
    "          .assign(\n",
    "              weight = data[\"sodium\"]/data[\"propensity_score\"] + (1-data[\"sodium\"])/(1-data[\"propensity_score\"]),\n",
    "              propensity_score=data[\"propensity_score\"].round(2)\n",
    "          )\n",
    "          .groupby([\"propensity_score\", \"sodium\"])\n",
    "          [[\"weight\", \"blood_pressure\"]]\n",
    "          .mean()\n",
    "          .reset_index())\n",
    "\n",
    "plt.figure(figsize=(10,4))\n",
    "for t in [0, 1]:\n",
    "    sns.scatterplot(data=g_data.query(f\"sodium=={t}\"), y=\"blood_pressure\", x=\"propensity_score\", size=\"weight\",\n",
    "                    sizes=(1,100), color=color[t], legend=None, label=f\"T={t}\", marker=marker[t])\n",
    "\n",
    "plt.title(\"Inverse Probability of Treatment Weighting\")\n",
    "plt.legend()"
   ]
  },
  {
   "cell_type": "code",
   "execution_count": null,
   "metadata": {},
   "outputs": [],
   "source": []
  }
 ],
 "metadata": {
  "kernelspec": {
   "display_name": "Python 3",
   "language": "python",
   "name": "python3"
  },
  "language_info": {
   "codemirror_mode": {
    "name": "ipython",
    "version": 3
   },
   "file_extension": ".py",
   "mimetype": "text/x-python",
   "name": "python",
   "nbconvert_exporter": "python",
   "pygments_lexer": "ipython3",
   "version": "3.8.10"
  },
  "orig_nbformat": 4,
  "vscode": {
   "interpreter": {
    "hash": "570feb405e2e27c949193ac68f46852414290d515b0ba6e5d90d076ed2284471"
   }
  }
 },
 "nbformat": 4,
 "nbformat_minor": 2
}
